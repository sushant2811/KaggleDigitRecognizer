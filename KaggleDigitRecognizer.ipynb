{
 "cells": [
  {
   "cell_type": "markdown",
   "metadata": {},
   "source": [
    "# Kaggle Digit Recognizer\n",
    "\n",
    "Train a model on the MNIST data set to predict the digits in the test set"
   ]
  },
  {
   "cell_type": "code",
   "execution_count": 19,
   "metadata": {
    "collapsed": true
   },
   "outputs": [],
   "source": [
    "import numpy as np\n",
    "import pandas as pd\n",
    "import matplotlib.pyplot as plt\n",
    "from sklearn.model_selection import train_test_split\n",
    "from sklearn.model_selection import GridSearchCV, RandomizedSearchCV\n",
    "from sklearn.multiclass import OneVsRestClassifier\n",
    "from sklearn.linear_model import LogisticRegression\n",
    "from sklearn.svm import SVC\n",
    "from sklearn.neighbors import KNeighborsClassifier\n",
    "from sklearn.neural_network import multilayer_perceptron\n",
    "from sklearn.ensemble import RandomForestClassifier\n",
    "from sklearn.pipeline import Pipeline, make_pipeline\n",
    "from sklearn.preprocessing import StandardScaler\n",
    "from sklearn.decomposition import PCA\n",
    "\n",
    "%matplotlib inline"
   ]
  },
  {
   "cell_type": "code",
   "execution_count": 2,
   "metadata": {
    "collapsed": true
   },
   "outputs": [],
   "source": [
    "dftrain = pd.read_csv('train.csv')"
   ]
  },
  {
   "cell_type": "code",
   "execution_count": 3,
   "metadata": {},
   "outputs": [
    {
     "data": {
      "text/html": [
       "<div>\n",
       "<style>\n",
       "    .dataframe thead tr:only-child th {\n",
       "        text-align: right;\n",
       "    }\n",
       "\n",
       "    .dataframe thead th {\n",
       "        text-align: left;\n",
       "    }\n",
       "\n",
       "    .dataframe tbody tr th {\n",
       "        vertical-align: top;\n",
       "    }\n",
       "</style>\n",
       "<table border=\"1\" class=\"dataframe\">\n",
       "  <thead>\n",
       "    <tr style=\"text-align: right;\">\n",
       "      <th></th>\n",
       "      <th>label</th>\n",
       "      <th>pixel0</th>\n",
       "      <th>pixel1</th>\n",
       "      <th>pixel2</th>\n",
       "      <th>pixel3</th>\n",
       "      <th>pixel4</th>\n",
       "      <th>pixel5</th>\n",
       "      <th>pixel6</th>\n",
       "      <th>pixel7</th>\n",
       "      <th>pixel8</th>\n",
       "      <th>...</th>\n",
       "      <th>pixel774</th>\n",
       "      <th>pixel775</th>\n",
       "      <th>pixel776</th>\n",
       "      <th>pixel777</th>\n",
       "      <th>pixel778</th>\n",
       "      <th>pixel779</th>\n",
       "      <th>pixel780</th>\n",
       "      <th>pixel781</th>\n",
       "      <th>pixel782</th>\n",
       "      <th>pixel783</th>\n",
       "    </tr>\n",
       "  </thead>\n",
       "  <tbody>\n",
       "    <tr>\n",
       "      <th>0</th>\n",
       "      <td>1</td>\n",
       "      <td>0</td>\n",
       "      <td>0</td>\n",
       "      <td>0</td>\n",
       "      <td>0</td>\n",
       "      <td>0</td>\n",
       "      <td>0</td>\n",
       "      <td>0</td>\n",
       "      <td>0</td>\n",
       "      <td>0</td>\n",
       "      <td>...</td>\n",
       "      <td>0</td>\n",
       "      <td>0</td>\n",
       "      <td>0</td>\n",
       "      <td>0</td>\n",
       "      <td>0</td>\n",
       "      <td>0</td>\n",
       "      <td>0</td>\n",
       "      <td>0</td>\n",
       "      <td>0</td>\n",
       "      <td>0</td>\n",
       "    </tr>\n",
       "    <tr>\n",
       "      <th>1</th>\n",
       "      <td>0</td>\n",
       "      <td>0</td>\n",
       "      <td>0</td>\n",
       "      <td>0</td>\n",
       "      <td>0</td>\n",
       "      <td>0</td>\n",
       "      <td>0</td>\n",
       "      <td>0</td>\n",
       "      <td>0</td>\n",
       "      <td>0</td>\n",
       "      <td>...</td>\n",
       "      <td>0</td>\n",
       "      <td>0</td>\n",
       "      <td>0</td>\n",
       "      <td>0</td>\n",
       "      <td>0</td>\n",
       "      <td>0</td>\n",
       "      <td>0</td>\n",
       "      <td>0</td>\n",
       "      <td>0</td>\n",
       "      <td>0</td>\n",
       "    </tr>\n",
       "    <tr>\n",
       "      <th>2</th>\n",
       "      <td>1</td>\n",
       "      <td>0</td>\n",
       "      <td>0</td>\n",
       "      <td>0</td>\n",
       "      <td>0</td>\n",
       "      <td>0</td>\n",
       "      <td>0</td>\n",
       "      <td>0</td>\n",
       "      <td>0</td>\n",
       "      <td>0</td>\n",
       "      <td>...</td>\n",
       "      <td>0</td>\n",
       "      <td>0</td>\n",
       "      <td>0</td>\n",
       "      <td>0</td>\n",
       "      <td>0</td>\n",
       "      <td>0</td>\n",
       "      <td>0</td>\n",
       "      <td>0</td>\n",
       "      <td>0</td>\n",
       "      <td>0</td>\n",
       "    </tr>\n",
       "    <tr>\n",
       "      <th>3</th>\n",
       "      <td>4</td>\n",
       "      <td>0</td>\n",
       "      <td>0</td>\n",
       "      <td>0</td>\n",
       "      <td>0</td>\n",
       "      <td>0</td>\n",
       "      <td>0</td>\n",
       "      <td>0</td>\n",
       "      <td>0</td>\n",
       "      <td>0</td>\n",
       "      <td>...</td>\n",
       "      <td>0</td>\n",
       "      <td>0</td>\n",
       "      <td>0</td>\n",
       "      <td>0</td>\n",
       "      <td>0</td>\n",
       "      <td>0</td>\n",
       "      <td>0</td>\n",
       "      <td>0</td>\n",
       "      <td>0</td>\n",
       "      <td>0</td>\n",
       "    </tr>\n",
       "    <tr>\n",
       "      <th>4</th>\n",
       "      <td>0</td>\n",
       "      <td>0</td>\n",
       "      <td>0</td>\n",
       "      <td>0</td>\n",
       "      <td>0</td>\n",
       "      <td>0</td>\n",
       "      <td>0</td>\n",
       "      <td>0</td>\n",
       "      <td>0</td>\n",
       "      <td>0</td>\n",
       "      <td>...</td>\n",
       "      <td>0</td>\n",
       "      <td>0</td>\n",
       "      <td>0</td>\n",
       "      <td>0</td>\n",
       "      <td>0</td>\n",
       "      <td>0</td>\n",
       "      <td>0</td>\n",
       "      <td>0</td>\n",
       "      <td>0</td>\n",
       "      <td>0</td>\n",
       "    </tr>\n",
       "  </tbody>\n",
       "</table>\n",
       "<p>5 rows × 785 columns</p>\n",
       "</div>"
      ],
      "text/plain": [
       "   label  pixel0  pixel1  pixel2  pixel3  pixel4  pixel5  pixel6  pixel7  \\\n",
       "0      1       0       0       0       0       0       0       0       0   \n",
       "1      0       0       0       0       0       0       0       0       0   \n",
       "2      1       0       0       0       0       0       0       0       0   \n",
       "3      4       0       0       0       0       0       0       0       0   \n",
       "4      0       0       0       0       0       0       0       0       0   \n",
       "\n",
       "   pixel8    ...     pixel774  pixel775  pixel776  pixel777  pixel778  \\\n",
       "0       0    ...            0         0         0         0         0   \n",
       "1       0    ...            0         0         0         0         0   \n",
       "2       0    ...            0         0         0         0         0   \n",
       "3       0    ...            0         0         0         0         0   \n",
       "4       0    ...            0         0         0         0         0   \n",
       "\n",
       "   pixel779  pixel780  pixel781  pixel782  pixel783  \n",
       "0         0         0         0         0         0  \n",
       "1         0         0         0         0         0  \n",
       "2         0         0         0         0         0  \n",
       "3         0         0         0         0         0  \n",
       "4         0         0         0         0         0  \n",
       "\n",
       "[5 rows x 785 columns]"
      ]
     },
     "execution_count": 3,
     "metadata": {},
     "output_type": "execute_result"
    }
   ],
   "source": [
    "dftrain.head()"
   ]
  },
  {
   "cell_type": "code",
   "execution_count": 4,
   "metadata": {},
   "outputs": [
    {
     "data": {
      "text/plain": [
       "(42000, 785)"
      ]
     },
     "execution_count": 4,
     "metadata": {},
     "output_type": "execute_result"
    }
   ],
   "source": [
    "dftrain.shape"
   ]
  },
  {
   "cell_type": "markdown",
   "metadata": {},
   "source": [
    "The images are gray-scale with 28 pixles in height and 28 pixels in width. So we have a total of 784 features. The pixel value is between 0 and 255 inclusive with higher numbers meaning darker. \n",
    "\n",
    "To understand this, we look at one particular row and reconstruct the image. "
   ]
  },
  {
   "cell_type": "code",
   "execution_count": 5,
   "metadata": {
    "collapsed": true
   },
   "outputs": [],
   "source": [
    "im0 = dftrain.iloc[0, :].values[1:] #droping the value in the label column"
   ]
  },
  {
   "cell_type": "code",
   "execution_count": 6,
   "metadata": {
    "collapsed": true
   },
   "outputs": [],
   "source": [
    "im0sq = im0.reshape(28, 28)"
   ]
  },
  {
   "cell_type": "code",
   "execution_count": 7,
   "metadata": {},
   "outputs": [
    {
     "data": {
      "image/png": "[encoded data removed]",
      "text/plain": [
       "<matplotlib.figure.Figure at 0x7f698535a0d0>"
      ]
     },
     "metadata": {},
     "output_type": "display_data"
    }
   ],
   "source": [
    "plt.imshow(im0sq, cmap = 'Greys');"
   ]
  },
  {
   "cell_type": "code",
   "execution_count": 8,
   "metadata": {},
   "outputs": [
    {
     "data": {
      "image/png": "[encoded data removed]",
      "text/plain": [
       "<matplotlib.figure.Figure at 0x7f698535ab10>"
      ]
     },
     "metadata": {},
     "output_type": "display_data"
    }
   ],
   "source": [
    "im1 = dftrain.iloc[1, :].values[1:] #droping the value in the label column\n",
    "im1sq = im1.reshape(28, 28)\n",
    "plt.imshow(im1sq, cmap = 'Greys');"
   ]
  },
  {
   "cell_type": "code",
   "execution_count": 9,
   "metadata": {},
   "outputs": [
    {
     "data": {
      "image/png": "[encoded data removed]",
      "text/plain": [
       "<matplotlib.figure.Figure at 0x7f69849c1090>"
      ]
     },
     "metadata": {},
     "output_type": "display_data"
    }
   ],
   "source": [
    "im3 = dftrain.iloc[3, :].values[1:] #droping the value in the label column\n",
    "im3sq = im3.reshape(28, 28)\n",
    "plt.imshow(im3sq, cmap = 'Greys');"
   ]
  },
  {
   "cell_type": "code",
   "execution_count": 10,
   "metadata": {},
   "outputs": [
    {
     "data": {
      "text/plain": [
       "0"
      ]
     },
     "execution_count": 10,
     "metadata": {},
     "output_type": "execute_result"
    }
   ],
   "source": [
    "dftrain.isnull().values.sum()"
   ]
  },
  {
   "cell_type": "markdown",
   "metadata": {},
   "source": [
    "No missing values at all. We have done data explorations. The features are decided, we can dive right into machine learning. \n",
    "\n",
    "Note that this is a multiclass classification problem. "
   ]
  },
  {
   "cell_type": "code",
   "execution_count": 11,
   "metadata": {
    "collapsed": true
   },
   "outputs": [],
   "source": [
    "X = dftrain.drop('label', axis = 1)\n",
    "y = dftrain.label"
   ]
  },
  {
   "cell_type": "markdown",
   "metadata": {},
   "source": [
    "Splitting the data into train and test sets. We use the stratify option to make sure that all target labels are present in both train and test set."
   ]
  },
  {
   "cell_type": "code",
   "execution_count": 12,
   "metadata": {
    "collapsed": true
   },
   "outputs": [],
   "source": [
    "X_train, X_test, y_train, y_test = train_test_split(X, y, test_size = 0.3, stratify=y)"
   ]
  },
  {
   "cell_type": "markdown",
   "metadata": {},
   "source": [
    "### PCA\n",
    "\n",
    "We notice that many pixels have the value 0. This typically corresponds to pixels that are on the edge of the image. Because we have many features in this case, we want to find the ones that matter the most and use them to train our model. \n",
    "\n",
    "One way to find the features that matter the most is to find the features that have the higest variance and this can be accomplished through PCA. But before we use PCA, we want to mean normalize our features. "
   ]
  },
  {
   "cell_type": "code",
   "execution_count": 20,
   "metadata": {
    "collapsed": true
   },
   "outputs": [],
   "source": [
    "scaler = StandardScaler()\n",
    "pca = PCA()\n",
    "pipeline = make_pipeline(scaler, pca)"
   ]
  },
  {
   "cell_type": "code",
   "execution_count": 21,
   "metadata": {},
   "outputs": [
    {
     "data": {
      "text/plain": [
       "Pipeline(steps=[('standardscaler', StandardScaler(copy=True, with_mean=True, with_std=True)), ('pca', PCA(copy=True, iterated_power='auto', n_components=None, random_state=None,\n",
       "  svd_solver='auto', tol=0.0, whiten=False))])"
      ]
     },
     "execution_count": 21,
     "metadata": {},
     "output_type": "execute_result"
    }
   ],
   "source": [
    "pipeline.fit(X)"
   ]
  },
  {
   "cell_type": "code",
   "execution_count": 22,
   "metadata": {},
   "outputs": [
    {
     "data": {
      "text/plain": [
       "784"
      ]
     },
     "execution_count": 22,
     "metadata": {},
     "output_type": "execute_result"
    }
   ],
   "source": [
    "pca.n_components_"
   ]
  },
  {
   "cell_type": "code",
   "execution_count": 23,
   "metadata": {},
   "outputs": [
    {
     "data": {
      "text/plain": [
       "array([  4.06955098e+01,   2.91107725e+01,   2.67826994e+01,\n",
       "         2.08142238e+01,   1.80995896e+01,   1.57872978e+01,\n",
       "         1.38240715e+01,   1.25429656e+01,   1.10636340e+01,\n",
       "         1.00886865e+01,   9.63594259e+00,   8.65558861e+00,\n",
       "         8.04101326e+00,   7.88067927e+00,   7.43619854e+00,\n",
       "         7.16726634e+00,   6.73522339e+00,   6.61636220e+00,\n",
       "         6.42339284e+00,   6.26811750e+00,   5.93946237e+00,\n",
       "         5.74915143e+00,   5.48813812e+00,   5.32636794e+00,\n",
       "         5.15204771e+00,   4.94719219e+00,   4.88841932e+00,\n",
       "         4.70765936e+00,   4.46517927e+00,   4.36341313e+00,\n",
       "         4.32532851e+00,   4.22702259e+00,   4.08716782e+00,\n",
       "         4.06167097e+00,   3.99893913e+00,   3.86795787e+00,\n",
       "         3.81916746e+00,   3.71247668e+00,   3.57429027e+00,\n",
       "         3.45879390e+00,   3.41428712e+00,   3.36937835e+00,\n",
       "         3.25685428e+00,   3.24001109e+00,   3.18305370e+00,\n",
       "         3.16279109e+00,   3.14236559e+00,   3.09280451e+00,\n",
       "         3.06360759e+00,   3.02335072e+00,   2.96842669e+00,\n",
       "         2.91823745e+00,   2.84942112e+00,   2.82799295e+00,\n",
       "         2.79583010e+00,   2.76689943e+00,   2.68968233e+00,\n",
       "         2.63697262e+00,   2.60836404e+00,   2.58931855e+00,\n",
       "         2.50120929e+00,   2.48570153e+00,   2.44552798e+00,\n",
       "         2.41706999e+00,   2.39151148e+00,   2.38225493e+00,\n",
       "         2.34850565e+00,   2.33445461e+00,   2.26571239e+00,\n",
       "         2.24277212e+00,   2.21388321e+00,   2.20797719e+00,\n",
       "         2.18214172e+00,   2.14719413e+00,   2.13468458e+00,\n",
       "         2.10375272e+00,   2.08752918e+00,   2.07889130e+00,\n",
       "         2.03796176e+00,   2.03129101e+00,   2.00485359e+00,\n",
       "         2.00282680e+00,   1.99444575e+00,   1.97684408e+00,\n",
       "         1.96004056e+00,   1.95631478e+00,   1.93937675e+00,\n",
       "         1.92441674e+00,   1.89843737e+00,   1.87933332e+00,\n",
       "         1.85546920e+00,   1.84196012e+00,   1.82802583e+00,\n",
       "         1.80453066e+00,   1.79480917e+00,   1.78699800e+00,\n",
       "         1.77052129e+00,   1.74028711e+00,   1.73006541e+00,\n",
       "         1.70902202e+00,   1.68257938e+00,   1.67264373e+00,\n",
       "         1.64490911e+00,   1.63011796e+00,   1.62484090e+00,\n",
       "         1.60336006e+00,   1.59271047e+00,   1.58358018e+00,\n",
       "         1.56264056e+00,   1.55898213e+00,   1.53500971e+00,\n",
       "         1.52005228e+00,   1.49516675e+00,   1.48600239e+00,\n",
       "         1.45052160e+00,   1.44455675e+00,   1.43030011e+00,\n",
       "         1.41792184e+00,   1.39480954e+00,   1.38576686e+00,\n",
       "         1.37647618e+00,   1.35768059e+00,   1.34767840e+00,\n",
       "         1.34567494e+00,   1.34210186e+00,   1.31353248e+00,\n",
       "         1.30490532e+00,   1.29295932e+00,   1.27258875e+00,\n",
       "         1.26978691e+00,   1.25876088e+00,   1.24736671e+00,\n",
       "         1.23112166e+00,   1.22790152e+00,   1.21759221e+00,\n",
       "         1.19327113e+00,   1.18913294e+00,   1.17799873e+00,\n",
       "         1.16090461e+00,   1.15542906e+00,   1.14430408e+00,\n",
       "         1.13875512e+00,   1.13062119e+00,   1.12233527e+00,\n",
       "         1.10777879e+00,   1.10285444e+00,   1.09192642e+00,\n",
       "         1.08403351e+00,   1.08130725e+00,   1.06291592e+00,\n",
       "         1.05735743e+00,   1.04660646e+00,   1.04504607e+00,\n",
       "         1.04309357e+00,   1.02995726e+00,   1.02555559e+00,\n",
       "         1.01538285e+00,   1.00878127e+00,   1.00398883e+00,\n",
       "         1.00083596e+00,   1.00057129e+00,   9.98708799e-01,\n",
       "         9.97465790e-01,   9.94615234e-01,   9.91284806e-01,\n",
       "         9.85132999e-01,   9.80214015e-01,   9.72223015e-01,\n",
       "         9.65808164e-01,   9.53871403e-01,   9.51661677e-01,\n",
       "         9.43444200e-01,   9.33014896e-01,   9.29035449e-01,\n",
       "         9.20562816e-01,   9.19437974e-01,   9.07460565e-01,\n",
       "         9.05944580e-01,   9.02850458e-01,   8.97551528e-01,\n",
       "         8.92841863e-01,   8.80166822e-01,   8.79219579e-01,\n",
       "         8.73910781e-01,   8.62327068e-01,   8.49786999e-01,\n",
       "         8.40656676e-01,   8.31520075e-01,   8.25654504e-01,\n",
       "         8.19232912e-01,   8.12841710e-01,   8.11573617e-01,\n",
       "         8.03236629e-01,   7.84566821e-01,   7.76160421e-01,\n",
       "         7.71107690e-01,   7.63276147e-01,   7.58010574e-01,\n",
       "         7.52875634e-01,   7.47732485e-01,   7.42618646e-01,\n",
       "         7.39029137e-01,   7.22716373e-01,   7.15398908e-01,\n",
       "         7.13212058e-01,   7.02017391e-01,   6.98570158e-01,\n",
       "         6.87998804e-01,   6.86017642e-01,   6.81596753e-01,\n",
       "         6.74498912e-01,   6.67453764e-01,   6.63460231e-01,\n",
       "         6.57057016e-01,   6.47544675e-01,   6.44641095e-01,\n",
       "         6.38673635e-01,   6.35664583e-01,   6.26838469e-01,\n",
       "         6.24595138e-01,   6.13346046e-01,   6.10589902e-01,\n",
       "         6.07355865e-01,   6.03959542e-01,   5.94937137e-01,\n",
       "         5.90488299e-01,   5.84193697e-01,   5.80860974e-01,\n",
       "         5.71821237e-01,   5.68596959e-01,   5.65943612e-01,\n",
       "         5.60101882e-01,   5.55947234e-01,   5.45686975e-01,\n",
       "         5.35233962e-01,   5.31856310e-01,   5.24841808e-01,\n",
       "         5.21158729e-01,   5.19551131e-01,   5.14661157e-01,\n",
       "         5.13692219e-01,   5.06201718e-01,   4.99082772e-01,\n",
       "         4.92966149e-01,   4.92311294e-01,   4.90332615e-01,\n",
       "         4.87540810e-01,   4.83341415e-01,   4.74135027e-01,\n",
       "         4.70878388e-01,   4.67367415e-01,   4.59925954e-01,\n",
       "         4.53262832e-01,   4.44854545e-01,   4.42570977e-01,\n",
       "         4.39236107e-01,   4.34063801e-01,   4.29481794e-01,\n",
       "         4.28354602e-01,   4.25762550e-01,   4.21468374e-01,\n",
       "         4.16700632e-01,   4.14200679e-01,   4.12920513e-01,\n",
       "         4.07084648e-01,   4.05404800e-01,   4.03134327e-01,\n",
       "         4.00785994e-01,   3.98150420e-01,   3.90845130e-01,\n",
       "         3.87464717e-01,   3.86214305e-01,   3.84136144e-01,\n",
       "         3.79524049e-01,   3.73163291e-01,   3.71883278e-01,\n",
       "         3.69382378e-01,   3.66349670e-01,   3.62239491e-01,\n",
       "         3.57908370e-01,   3.55268228e-01,   3.53435687e-01,\n",
       "         3.51431031e-01,   3.47660895e-01,   3.44796610e-01,\n",
       "         3.40334763e-01,   3.38694221e-01,   3.35512785e-01,\n",
       "         3.29206959e-01,   3.28734379e-01,   3.22646998e-01,\n",
       "         3.21334180e-01,   3.19908831e-01,   3.18820368e-01,\n",
       "         3.13964599e-01,   3.12028777e-01,   3.08776270e-01,\n",
       "         3.06319805e-01,   3.03278682e-01,   2.98245553e-01,\n",
       "         2.95884308e-01,   2.93149125e-01,   2.92648285e-01,\n",
       "         2.89158687e-01,   2.88686264e-01,   2.85053533e-01,\n",
       "         2.84070491e-01,   2.81772636e-01,   2.80570271e-01,\n",
       "         2.79082875e-01,   2.74535991e-01,   2.71511831e-01,\n",
       "         2.70759751e-01,   2.69163916e-01,   2.68087207e-01,\n",
       "         2.63525771e-01,   2.62349829e-01,   2.59322691e-01,\n",
       "         2.56059744e-01,   2.52668255e-01,   2.52183831e-01,\n",
       "         2.50306942e-01,   2.49102993e-01,   2.46763159e-01,\n",
       "         2.43572795e-01,   2.39783015e-01,   2.39553358e-01,\n",
       "         2.39167177e-01,   2.37036194e-01,   2.34319954e-01,\n",
       "         2.32187169e-01,   2.31515594e-01,   2.29871791e-01,\n",
       "         2.28364320e-01,   2.27310047e-01,   2.25462300e-01,\n",
       "         2.23681247e-01,   2.22204283e-01,   2.19305348e-01,\n",
       "         2.18281861e-01,   2.16704762e-01,   2.16080332e-01,\n",
       "         2.13652050e-01,   2.11747337e-01,   2.10998369e-01,\n",
       "         2.07777179e-01,   2.07357974e-01,   2.05300620e-01,\n",
       "         2.03851255e-01,   2.02230745e-01,   2.00807779e-01,\n",
       "         1.99781958e-01,   1.98091793e-01,   1.97732941e-01,\n",
       "         1.96506876e-01,   1.92612871e-01,   1.91268429e-01,\n",
       "         1.89162419e-01,   1.87864609e-01,   1.86452044e-01,\n",
       "         1.85701994e-01,   1.83898277e-01,   1.83137246e-01,\n",
       "         1.81307669e-01,   1.79916404e-01,   1.79156985e-01,\n",
       "         1.77376934e-01,   1.75971677e-01,   1.75269193e-01,\n",
       "         1.74803217e-01,   1.73799480e-01,   1.72541464e-01,\n",
       "         1.71150397e-01,   1.69521118e-01,   1.69036039e-01,\n",
       "         1.67359587e-01,   1.67015639e-01,   1.64570869e-01,\n",
       "         1.63316947e-01,   1.62972739e-01,   1.60728587e-01,\n",
       "         1.60507244e-01,   1.59751887e-01,   1.59056773e-01,\n",
       "         1.57168054e-01,   1.57060415e-01,   1.55971932e-01,\n",
       "         1.54399410e-01,   1.54025366e-01,   1.52772294e-01,\n",
       "         1.51704485e-01,   1.51094807e-01,   1.49422409e-01,\n",
       "         1.48258348e-01,   1.47838386e-01,   1.47041273e-01,\n",
       "         1.45949226e-01,   1.45308221e-01,   1.43914926e-01,\n",
       "         1.43652093e-01,   1.42054860e-01,   1.41869215e-01,\n",
       "         1.40335619e-01,   1.39128604e-01,   1.38179952e-01,\n",
       "         1.37528055e-01,   1.37169457e-01,   1.35866950e-01,\n",
       "         1.35130828e-01,   1.34640952e-01,   1.34025813e-01,\n",
       "         1.33197577e-01,   1.32331709e-01,   1.30120179e-01,\n",
       "         1.29462184e-01,   1.28085047e-01,   1.27077956e-01,\n",
       "         1.26244296e-01,   1.25806016e-01,   1.24469370e-01,\n",
       "         1.23944383e-01,   1.23571423e-01,   1.22586784e-01,\n",
       "         1.21668130e-01,   1.20621304e-01,   1.20460117e-01,\n",
       "         1.19951337e-01,   1.18703156e-01,   1.18314857e-01,\n",
       "         1.17911458e-01,   1.17365627e-01,   1.16746670e-01,\n",
       "         1.16474119e-01,   1.15591182e-01,   1.14684284e-01,\n",
       "         1.13669361e-01,   1.12422077e-01,   1.11502154e-01,\n",
       "         1.10794440e-01,   1.10527921e-01,   1.09892566e-01,\n",
       "         1.09460239e-01,   1.08215814e-01,   1.07356271e-01,\n",
       "         1.06817981e-01,   1.05753583e-01,   1.05203235e-01,\n",
       "         1.04579175e-01,   1.04109113e-01,   1.03325013e-01,\n",
       "         1.03200125e-01,   1.02790725e-01,   1.01965243e-01,\n",
       "         1.01534989e-01,   1.01420239e-01,   1.00909072e-01,\n",
       "         1.00337435e-01,   9.96812987e-02,   9.91865841e-02,\n",
       "         9.88902019e-02,   9.80546972e-02,   9.76682674e-02,\n",
       "         9.72710008e-02,   9.67922653e-02,   9.61656506e-02,\n",
       "         9.53948420e-02,   9.51418254e-02,   9.48217338e-02,\n",
       "         9.41216461e-02,   9.34923153e-02,   9.31432539e-02,\n",
       "         9.25953125e-02,   9.19457753e-02,   9.11633367e-02,\n",
       "         9.08373767e-02,   9.06236172e-02,   8.99706976e-02,\n",
       "         8.97803180e-02,   8.87905179e-02,   8.82797765e-02,\n",
       "         8.80362575e-02,   8.74515050e-02,   8.70545880e-02,\n",
       "         8.69114381e-02,   8.66100825e-02,   8.59162023e-02,\n",
       "         8.52324418e-02,   8.47262607e-02,   8.41790198e-02,\n",
       "         8.40144485e-02,   8.36993367e-02,   8.31880530e-02,\n",
       "         8.28378013e-02,   8.18409061e-02,   8.12392397e-02,\n",
       "         8.08422677e-02,   8.06052042e-02,   8.02812430e-02,\n",
       "         7.95135912e-02,   7.91135115e-02,   7.87710944e-02,\n",
       "         7.82785683e-02,   7.76899595e-02,   7.75929687e-02,\n",
       "         7.67685841e-02,   7.66134511e-02,   7.62838478e-02,\n",
       "         7.60774707e-02,   7.56126838e-02,   7.53322080e-02,\n",
       "         7.49324256e-02,   7.45301926e-02,   7.40630050e-02,\n",
       "         7.36716696e-02,   7.35807993e-02,   7.32330878e-02,\n",
       "         7.28711975e-02,   7.22574562e-02,   7.17377339e-02,\n",
       "         7.13418900e-02,   7.11018861e-02,   7.04619042e-02,\n",
       "         7.03051823e-02,   7.01492892e-02,   6.94164090e-02,\n",
       "         6.93295940e-02,   6.90747159e-02,   6.87210512e-02,\n",
       "         6.86453146e-02,   6.82301608e-02,   6.75598923e-02,\n",
       "         6.74093447e-02,   6.70340952e-02,   6.64070505e-02,\n",
       "         6.59512310e-02,   6.56162208e-02,   6.55859435e-02,\n",
       "         6.48890791e-02,   6.45008149e-02,   6.41718319e-02,\n",
       "         6.39662062e-02,   6.36994542e-02,   6.35390463e-02,\n",
       "         6.31101473e-02,   6.25418148e-02,   6.23032631e-02,\n",
       "         6.19861471e-02,   6.12561771e-02,   6.10447132e-02,\n",
       "         6.07047373e-02,   6.04979639e-02,   6.03348171e-02,\n",
       "         5.98893050e-02,   5.93989262e-02,   5.92326036e-02,\n",
       "         5.88706187e-02,   5.83431339e-02,   5.79506455e-02,\n",
       "         5.76263116e-02,   5.73150097e-02,   5.70497868e-02,\n",
       "         5.64129427e-02,   5.60486951e-02,   5.58507427e-02,\n",
       "         5.57257389e-02,   5.54394436e-02,   5.51367613e-02,\n",
       "         5.51197518e-02,   5.48933080e-02,   5.42244804e-02,\n",
       "         5.35971759e-02,   5.35543109e-02,   5.32842810e-02,\n",
       "         5.29196500e-02,   5.26419803e-02,   5.21724884e-02,\n",
       "         5.21559172e-02,   5.19252427e-02,   5.14278795e-02,\n",
       "         5.12909796e-02,   5.11143662e-02,   5.07644406e-02,\n",
       "         5.02333346e-02,   5.01162627e-02,   4.96778081e-02,\n",
       "         4.93275781e-02,   4.92618080e-02,   4.91514607e-02,\n",
       "         4.87489145e-02,   4.84453075e-02,   4.80658562e-02,\n",
       "         4.78886538e-02,   4.75947956e-02,   4.75537516e-02,\n",
       "         4.72174744e-02,   4.69646123e-02,   4.67171264e-02,\n",
       "         4.64801794e-02,   4.60810521e-02,   4.56365933e-02,\n",
       "         4.54675101e-02,   4.52420833e-02,   4.51180897e-02,\n",
       "         4.50018288e-02,   4.45028428e-02,   4.42534661e-02,\n",
       "         4.40931245e-02,   4.37338928e-02,   4.35994771e-02,\n",
       "         4.34094441e-02,   4.31191858e-02,   4.27261504e-02,\n",
       "         4.26350264e-02,   4.24967799e-02,   4.20121428e-02,\n",
       "         4.16764613e-02,   4.13149017e-02,   4.11498255e-02,\n",
       "         4.07615106e-02,   4.04283557e-02,   4.02431813e-02,\n",
       "         4.01837919e-02,   4.00175371e-02,   3.97647149e-02,\n",
       "         3.95585239e-02,   3.94437071e-02,   3.92521025e-02,\n",
       "         3.87445730e-02,   3.83419435e-02,   3.83365132e-02,\n",
       "         3.78931521e-02,   3.77831913e-02,   3.74011491e-02,\n",
       "         3.73875681e-02,   3.71624652e-02,   3.69093991e-02,\n",
       "         3.67431692e-02,   3.64460963e-02,   3.62337919e-02,\n",
       "         3.57956200e-02,   3.55668563e-02,   3.53624919e-02,\n",
       "         3.50894261e-02,   3.48185673e-02,   3.46712059e-02,\n",
       "         3.44240571e-02,   3.42641391e-02,   3.41411917e-02,\n",
       "         3.37602481e-02,   3.31884855e-02,   3.30076716e-02,\n",
       "         3.28633371e-02,   3.26043447e-02,   3.23696546e-02,\n",
       "         3.20266978e-02,   3.18480806e-02,   3.17448811e-02,\n",
       "         3.15343554e-02,   3.13291158e-02,   3.09258790e-02,\n",
       "         3.07159983e-02,   3.05476080e-02,   3.02735948e-02,\n",
       "         2.98317202e-02,   2.95417629e-02,   2.93013121e-02,\n",
       "         2.91417510e-02,   2.87951628e-02,   2.86272606e-02,\n",
       "         2.84480451e-02,   2.81559973e-02,   2.77833022e-02,\n",
       "         2.76514768e-02,   2.73984488e-02,   2.70827206e-02,\n",
       "         2.68900790e-02,   2.68043894e-02,   2.65504829e-02,\n",
       "         2.63881822e-02,   2.60083654e-02,   2.56689098e-02,\n",
       "         2.53675862e-02,   2.52656634e-02,   2.48139433e-02,\n",
       "         2.44867007e-02,   2.42546398e-02,   2.40551455e-02,\n",
       "         2.37822008e-02,   2.34609925e-02,   2.33453373e-02,\n",
       "         2.31596270e-02,   2.28069739e-02,   2.20241601e-02,\n",
       "         2.14062605e-02,   2.11607906e-02,   2.07773339e-02,\n",
       "         2.01402970e-02,   1.85491486e-02,   1.80340582e-02,\n",
       "         1.17561494e-02,   8.45739941e-03,   4.75361928e-03,\n",
       "         1.88072552e-03,   5.97307691e-04,   1.91555463e-28,\n",
       "         2.59356524e-30,   1.19542563e-30,   8.73870788e-31,\n",
       "         7.81100831e-31,   6.88266869e-31,   6.28399127e-31,\n",
       "         6.17775050e-31,   5.76974505e-31,   4.89885642e-31,\n",
       "         4.19529110e-31,   3.89909429e-31,   3.15323917e-31,\n",
       "         2.93748300e-31,   1.78624460e-31,   1.56861260e-31,\n",
       "         1.40025626e-31,   1.39366977e-31,   1.39366977e-31,\n",
       "         1.39366977e-31,   1.39366977e-31,   1.39366977e-31,\n",
       "         1.39366977e-31,   1.39366977e-31,   1.39366977e-31,\n",
       "         1.39366977e-31,   1.39366977e-31,   1.39366977e-31,\n",
       "         1.39366977e-31,   1.39366977e-31,   1.39366977e-31,\n",
       "         1.39366977e-31,   1.39366977e-31,   1.39366977e-31,\n",
       "         1.39366977e-31,   1.39366977e-31,   1.39366977e-31,\n",
       "         1.39366977e-31,   1.39366977e-31,   1.39366977e-31,\n",
       "         1.39366977e-31,   1.39366977e-31,   1.39366977e-31,\n",
       "         1.39366977e-31,   1.39366977e-31,   1.39366977e-31,\n",
       "         1.39366977e-31,   1.39366977e-31,   1.39366977e-31,\n",
       "         1.39366977e-31,   1.39366977e-31,   1.39366977e-31,\n",
       "         1.39366977e-31,   1.39366977e-31,   1.39366977e-31,\n",
       "         1.39366977e-31,   1.39366977e-31,   1.39366977e-31,\n",
       "         1.39366977e-31,   1.39366977e-31,   1.39366977e-31,\n",
       "         1.39366977e-31,   1.39366977e-31,   1.39366977e-31,\n",
       "         1.39366977e-31,   1.39366977e-31,   1.39366977e-31,\n",
       "         1.39366977e-31,   1.39366977e-31,   1.39366977e-31,\n",
       "         1.39366977e-31,   1.39366977e-31,   1.39366977e-31,\n",
       "         1.39366977e-31,   1.01496907e-31,   8.39481027e-32,\n",
       "         5.52392954e-32,   4.98145283e-32,   4.24470148e-32,\n",
       "         1.60017107e-33])"
      ]
     },
     "execution_count": 23,
     "metadata": {},
     "output_type": "execute_result"
    }
   ],
   "source": [
    "pca.explained_variance_"
   ]
  },
  {
   "cell_type": "code",
   "execution_count": null,
   "metadata": {
    "collapsed": true
   },
   "outputs": [],
   "source": []
  }
 ],
 "metadata": {
  "kernelspec": {
   "display_name": "Python 2",
   "language": "python",
   "name": "python2"
  },
  "language_info": {
   "codemirror_mode": {
    "name": "ipython",
    "version": 2
   },
   "file_extension": ".py",
   "mimetype": "text/x-python",
   "name": "python",
   "nbconvert_exporter": "python",
   "pygments_lexer": "ipython2",
   "version": "2.7.13"
  }
 },
 "nbformat": 4,
 "nbformat_minor": 2
}
